{
 "cells": [
  {
   "cell_type": "code",
   "execution_count": 117,
   "metadata": {},
   "outputs": [],
   "source": [
    "import pandas as pd\n",
    "import numpy as np\n",
    "import seaborn as sns\n",
    "import matplotlib.pyplot as plt\n",
    "from sklearn.ensemble import RandomForestClassifier\n",
    "from xgboost import XGBClassifier\n",
    "from sklearn.model_selection import train_test_split, cross_val_score, StratifiedKFold, GridSearchCV\n",
    "from sklearn.metrics import accuracy_score, precision_score, recall_score, roc_curve, auc, mean_absolute_error\n",
    "from sklearn.preprocessing import LabelEncoder, OneHotEncoder\n",
    "from sklearn.impute import SimpleImputer\n",
    "from sklearn.compose import ColumnTransformer\n",
    "from sklearn.pipeline import Pipeline\n"
   ]
  },
  {
   "attachments": {},
   "cell_type": "markdown",
   "metadata": {},
   "source": [
    "### Loading data"
   ]
  },
  {
   "cell_type": "code",
   "execution_count": 2,
   "metadata": {},
   "outputs": [
    {
     "data": {
      "text/html": [
       "<div>\n",
       "<style scoped>\n",
       "    .dataframe tbody tr th:only-of-type {\n",
       "        vertical-align: middle;\n",
       "    }\n",
       "\n",
       "    .dataframe tbody tr th {\n",
       "        vertical-align: top;\n",
       "    }\n",
       "\n",
       "    .dataframe thead th {\n",
       "        text-align: right;\n",
       "    }\n",
       "</style>\n",
       "<table border=\"1\" class=\"dataframe\">\n",
       "  <thead>\n",
       "    <tr style=\"text-align: right;\">\n",
       "      <th></th>\n",
       "      <th>Survived</th>\n",
       "      <th>Pclass</th>\n",
       "      <th>Age</th>\n",
       "      <th>SibSp</th>\n",
       "      <th>Parch</th>\n",
       "      <th>Fare</th>\n",
       "    </tr>\n",
       "  </thead>\n",
       "  <tbody>\n",
       "    <tr>\n",
       "      <th>count</th>\n",
       "      <td>891.000000</td>\n",
       "      <td>891.000000</td>\n",
       "      <td>714.000000</td>\n",
       "      <td>891.000000</td>\n",
       "      <td>891.000000</td>\n",
       "      <td>891.000000</td>\n",
       "    </tr>\n",
       "    <tr>\n",
       "      <th>mean</th>\n",
       "      <td>0.383838</td>\n",
       "      <td>2.308642</td>\n",
       "      <td>29.699118</td>\n",
       "      <td>0.523008</td>\n",
       "      <td>0.381594</td>\n",
       "      <td>32.204208</td>\n",
       "    </tr>\n",
       "    <tr>\n",
       "      <th>std</th>\n",
       "      <td>0.486592</td>\n",
       "      <td>0.836071</td>\n",
       "      <td>14.526497</td>\n",
       "      <td>1.102743</td>\n",
       "      <td>0.806057</td>\n",
       "      <td>49.693429</td>\n",
       "    </tr>\n",
       "    <tr>\n",
       "      <th>min</th>\n",
       "      <td>0.000000</td>\n",
       "      <td>1.000000</td>\n",
       "      <td>0.420000</td>\n",
       "      <td>0.000000</td>\n",
       "      <td>0.000000</td>\n",
       "      <td>0.000000</td>\n",
       "    </tr>\n",
       "    <tr>\n",
       "      <th>25%</th>\n",
       "      <td>0.000000</td>\n",
       "      <td>2.000000</td>\n",
       "      <td>20.125000</td>\n",
       "      <td>0.000000</td>\n",
       "      <td>0.000000</td>\n",
       "      <td>7.910400</td>\n",
       "    </tr>\n",
       "    <tr>\n",
       "      <th>50%</th>\n",
       "      <td>0.000000</td>\n",
       "      <td>3.000000</td>\n",
       "      <td>28.000000</td>\n",
       "      <td>0.000000</td>\n",
       "      <td>0.000000</td>\n",
       "      <td>14.454200</td>\n",
       "    </tr>\n",
       "    <tr>\n",
       "      <th>75%</th>\n",
       "      <td>1.000000</td>\n",
       "      <td>3.000000</td>\n",
       "      <td>38.000000</td>\n",
       "      <td>1.000000</td>\n",
       "      <td>0.000000</td>\n",
       "      <td>31.000000</td>\n",
       "    </tr>\n",
       "    <tr>\n",
       "      <th>max</th>\n",
       "      <td>1.000000</td>\n",
       "      <td>3.000000</td>\n",
       "      <td>80.000000</td>\n",
       "      <td>8.000000</td>\n",
       "      <td>6.000000</td>\n",
       "      <td>512.329200</td>\n",
       "    </tr>\n",
       "  </tbody>\n",
       "</table>\n",
       "</div>"
      ],
      "text/plain": [
       "         Survived      Pclass         Age       SibSp       Parch        Fare\n",
       "count  891.000000  891.000000  714.000000  891.000000  891.000000  891.000000\n",
       "mean     0.383838    2.308642   29.699118    0.523008    0.381594   32.204208\n",
       "std      0.486592    0.836071   14.526497    1.102743    0.806057   49.693429\n",
       "min      0.000000    1.000000    0.420000    0.000000    0.000000    0.000000\n",
       "25%      0.000000    2.000000   20.125000    0.000000    0.000000    7.910400\n",
       "50%      0.000000    3.000000   28.000000    0.000000    0.000000   14.454200\n",
       "75%      1.000000    3.000000   38.000000    1.000000    0.000000   31.000000\n",
       "max      1.000000    3.000000   80.000000    8.000000    6.000000  512.329200"
      ]
     },
     "execution_count": 2,
     "metadata": {},
     "output_type": "execute_result"
    }
   ],
   "source": [
    "train_data = pd.read_csv(\"./data/train.csv\", index_col=\"PassengerId\")\n",
    "test_data = pd.read_csv(\"./data/test.csv\", index_col=\"PassengerId\")\n",
    "train_data.describe()"
   ]
  },
  {
   "attachments": {},
   "cell_type": "markdown",
   "metadata": {},
   "source": [
    "- Survival: if the passenger has survived | 0 = No, 1 = Yes\n",
    "- Pclass: Ticket class | 1 = 1st, 2 = 2nd, 3 = 3rd\n",
    "- Sex: Sex\n",
    "- Age: Age in years\n",
    "- SibSp: # of siblings / spouses aboard the Titanic\n",
    "- Parch: # of parents / children aboard the Titanic\n",
    "- Fare: Passenger fare\n",
    "- Cabin: Cabin number\n",
    "- Embarked: Port of Embarkation | C = Cherbourg, Q = Queenstown, S = Southampton"
   ]
  },
  {
   "attachments": {},
   "cell_type": "markdown",
   "metadata": {},
   "source": [
    "#### Column \"Carbin\" has a lot of null data, so we'll ignore this column"
   ]
  },
  {
   "cell_type": "code",
   "execution_count": 3,
   "metadata": {},
   "outputs": [
    {
     "name": "stdout",
     "output_type": "stream",
     "text": [
      "<class 'pandas.core.frame.DataFrame'>\n",
      "Index: 891 entries, 1 to 891\n",
      "Data columns (total 11 columns):\n",
      " #   Column    Non-Null Count  Dtype  \n",
      "---  ------    --------------  -----  \n",
      " 0   Survived  891 non-null    int64  \n",
      " 1   Pclass    891 non-null    int64  \n",
      " 2   Name      891 non-null    object \n",
      " 3   Sex       891 non-null    object \n",
      " 4   Age       714 non-null    float64\n",
      " 5   SibSp     891 non-null    int64  \n",
      " 6   Parch     891 non-null    int64  \n",
      " 7   Ticket    891 non-null    object \n",
      " 8   Fare      891 non-null    float64\n",
      " 9   Cabin     204 non-null    object \n",
      " 10  Embarked  889 non-null    object \n",
      "dtypes: float64(2), int64(4), object(5)\n",
      "memory usage: 83.5+ KB\n"
     ]
    }
   ],
   "source": [
    "train_data.info()"
   ]
  },
  {
   "cell_type": "code",
   "execution_count": 4,
   "metadata": {},
   "outputs": [
    {
     "data": {
      "text/html": [
       "<div>\n",
       "<style scoped>\n",
       "    .dataframe tbody tr th:only-of-type {\n",
       "        vertical-align: middle;\n",
       "    }\n",
       "\n",
       "    .dataframe tbody tr th {\n",
       "        vertical-align: top;\n",
       "    }\n",
       "\n",
       "    .dataframe thead th {\n",
       "        text-align: right;\n",
       "    }\n",
       "</style>\n",
       "<table border=\"1\" class=\"dataframe\">\n",
       "  <thead>\n",
       "    <tr style=\"text-align: right;\">\n",
       "      <th></th>\n",
       "      <th>Survived</th>\n",
       "      <th>Pclass</th>\n",
       "      <th>Name</th>\n",
       "      <th>Sex</th>\n",
       "      <th>Age</th>\n",
       "      <th>SibSp</th>\n",
       "      <th>Parch</th>\n",
       "      <th>Ticket</th>\n",
       "      <th>Fare</th>\n",
       "      <th>Cabin</th>\n",
       "      <th>Embarked</th>\n",
       "    </tr>\n",
       "    <tr>\n",
       "      <th>PassengerId</th>\n",
       "      <th></th>\n",
       "      <th></th>\n",
       "      <th></th>\n",
       "      <th></th>\n",
       "      <th></th>\n",
       "      <th></th>\n",
       "      <th></th>\n",
       "      <th></th>\n",
       "      <th></th>\n",
       "      <th></th>\n",
       "      <th></th>\n",
       "    </tr>\n",
       "  </thead>\n",
       "  <tbody>\n",
       "    <tr>\n",
       "      <th>888</th>\n",
       "      <td>1</td>\n",
       "      <td>1</td>\n",
       "      <td>Graham, Miss. Margaret Edith</td>\n",
       "      <td>female</td>\n",
       "      <td>19.0</td>\n",
       "      <td>0</td>\n",
       "      <td>0</td>\n",
       "      <td>112053</td>\n",
       "      <td>30.0000</td>\n",
       "      <td>B42</td>\n",
       "      <td>S</td>\n",
       "    </tr>\n",
       "    <tr>\n",
       "      <th>456</th>\n",
       "      <td>1</td>\n",
       "      <td>3</td>\n",
       "      <td>Jalsevac, Mr. Ivan</td>\n",
       "      <td>male</td>\n",
       "      <td>29.0</td>\n",
       "      <td>0</td>\n",
       "      <td>0</td>\n",
       "      <td>349240</td>\n",
       "      <td>7.8958</td>\n",
       "      <td>NaN</td>\n",
       "      <td>C</td>\n",
       "    </tr>\n",
       "    <tr>\n",
       "      <th>654</th>\n",
       "      <td>1</td>\n",
       "      <td>3</td>\n",
       "      <td>O'Leary, Miss. Hanora \"Norah\"</td>\n",
       "      <td>female</td>\n",
       "      <td>NaN</td>\n",
       "      <td>0</td>\n",
       "      <td>0</td>\n",
       "      <td>330919</td>\n",
       "      <td>7.8292</td>\n",
       "      <td>NaN</td>\n",
       "      <td>Q</td>\n",
       "    </tr>\n",
       "    <tr>\n",
       "      <th>891</th>\n",
       "      <td>0</td>\n",
       "      <td>3</td>\n",
       "      <td>Dooley, Mr. Patrick</td>\n",
       "      <td>male</td>\n",
       "      <td>32.0</td>\n",
       "      <td>0</td>\n",
       "      <td>0</td>\n",
       "      <td>370376</td>\n",
       "      <td>7.7500</td>\n",
       "      <td>NaN</td>\n",
       "      <td>Q</td>\n",
       "    </tr>\n",
       "    <tr>\n",
       "      <th>278</th>\n",
       "      <td>0</td>\n",
       "      <td>2</td>\n",
       "      <td>Parkes, Mr. Francis \"Frank\"</td>\n",
       "      <td>male</td>\n",
       "      <td>NaN</td>\n",
       "      <td>0</td>\n",
       "      <td>0</td>\n",
       "      <td>239853</td>\n",
       "      <td>0.0000</td>\n",
       "      <td>NaN</td>\n",
       "      <td>S</td>\n",
       "    </tr>\n",
       "    <tr>\n",
       "      <th>703</th>\n",
       "      <td>0</td>\n",
       "      <td>3</td>\n",
       "      <td>Barbara, Miss. Saiide</td>\n",
       "      <td>female</td>\n",
       "      <td>18.0</td>\n",
       "      <td>0</td>\n",
       "      <td>1</td>\n",
       "      <td>2691</td>\n",
       "      <td>14.4542</td>\n",
       "      <td>NaN</td>\n",
       "      <td>C</td>\n",
       "    </tr>\n",
       "    <tr>\n",
       "      <th>850</th>\n",
       "      <td>1</td>\n",
       "      <td>1</td>\n",
       "      <td>Goldenberg, Mrs. Samuel L (Edwiga Grabowska)</td>\n",
       "      <td>female</td>\n",
       "      <td>NaN</td>\n",
       "      <td>1</td>\n",
       "      <td>0</td>\n",
       "      <td>17453</td>\n",
       "      <td>89.1042</td>\n",
       "      <td>C92</td>\n",
       "      <td>C</td>\n",
       "    </tr>\n",
       "    <tr>\n",
       "      <th>676</th>\n",
       "      <td>0</td>\n",
       "      <td>3</td>\n",
       "      <td>Edvardsson, Mr. Gustaf Hjalmar</td>\n",
       "      <td>male</td>\n",
       "      <td>18.0</td>\n",
       "      <td>0</td>\n",
       "      <td>0</td>\n",
       "      <td>349912</td>\n",
       "      <td>7.7750</td>\n",
       "      <td>NaN</td>\n",
       "      <td>S</td>\n",
       "    </tr>\n",
       "    <tr>\n",
       "      <th>792</th>\n",
       "      <td>0</td>\n",
       "      <td>2</td>\n",
       "      <td>Gaskell, Mr. Alfred</td>\n",
       "      <td>male</td>\n",
       "      <td>16.0</td>\n",
       "      <td>0</td>\n",
       "      <td>0</td>\n",
       "      <td>239865</td>\n",
       "      <td>26.0000</td>\n",
       "      <td>NaN</td>\n",
       "      <td>S</td>\n",
       "    </tr>\n",
       "    <tr>\n",
       "      <th>846</th>\n",
       "      <td>0</td>\n",
       "      <td>3</td>\n",
       "      <td>Abbing, Mr. Anthony</td>\n",
       "      <td>male</td>\n",
       "      <td>42.0</td>\n",
       "      <td>0</td>\n",
       "      <td>0</td>\n",
       "      <td>C.A. 5547</td>\n",
       "      <td>7.5500</td>\n",
       "      <td>NaN</td>\n",
       "      <td>S</td>\n",
       "    </tr>\n",
       "  </tbody>\n",
       "</table>\n",
       "</div>"
      ],
      "text/plain": [
       "             Survived  Pclass                                          Name  \\\n",
       "PassengerId                                                                   \n",
       "888                 1       1                  Graham, Miss. Margaret Edith   \n",
       "456                 1       3                            Jalsevac, Mr. Ivan   \n",
       "654                 1       3                 O'Leary, Miss. Hanora \"Norah\"   \n",
       "891                 0       3                           Dooley, Mr. Patrick   \n",
       "278                 0       2                   Parkes, Mr. Francis \"Frank\"   \n",
       "703                 0       3                         Barbara, Miss. Saiide   \n",
       "850                 1       1  Goldenberg, Mrs. Samuel L (Edwiga Grabowska)   \n",
       "676                 0       3                Edvardsson, Mr. Gustaf Hjalmar   \n",
       "792                 0       2                           Gaskell, Mr. Alfred   \n",
       "846                 0       3                           Abbing, Mr. Anthony   \n",
       "\n",
       "                Sex   Age  SibSp  Parch     Ticket     Fare Cabin Embarked  \n",
       "PassengerId                                                                 \n",
       "888          female  19.0      0      0     112053  30.0000   B42        S  \n",
       "456            male  29.0      0      0     349240   7.8958   NaN        C  \n",
       "654          female   NaN      0      0     330919   7.8292   NaN        Q  \n",
       "891            male  32.0      0      0     370376   7.7500   NaN        Q  \n",
       "278            male   NaN      0      0     239853   0.0000   NaN        S  \n",
       "703          female  18.0      0      1       2691  14.4542   NaN        C  \n",
       "850          female   NaN      1      0      17453  89.1042   C92        C  \n",
       "676            male  18.0      0      0     349912   7.7750   NaN        S  \n",
       "792            male  16.0      0      0     239865  26.0000   NaN        S  \n",
       "846            male  42.0      0      0  C.A. 5547   7.5500   NaN        S  "
      ]
     },
     "execution_count": 4,
     "metadata": {},
     "output_type": "execute_result"
    }
   ],
   "source": [
    "train_data.sample(10)"
   ]
  },
  {
   "cell_type": "code",
   "execution_count": 5,
   "metadata": {},
   "outputs": [
    {
     "name": "stdout",
     "output_type": "stream",
     "text": [
      "Survived :  2\n",
      "Pclass :  3\n",
      "Name :  891\n",
      "Sex :  2\n",
      "Age :  88\n",
      "SibSp :  7\n",
      "Parch :  7\n",
      "Ticket :  681\n",
      "Fare :  248\n",
      "Cabin :  147\n",
      "Embarked :  3\n"
     ]
    },
    {
     "data": {
      "text/plain": [
       "[None, None, None, None, None, None, None, None, None, None, None]"
      ]
     },
     "execution_count": 5,
     "metadata": {},
     "output_type": "execute_result"
    }
   ],
   "source": [
    "[print(column, \": \", train_data[column].nunique()) for column in train_data.columns]"
   ]
  },
  {
   "cell_type": "code",
   "execution_count": 119,
   "metadata": {},
   "outputs": [
    {
     "data": {
      "image/png": "[encoded data removed]",
      "text/plain": [
       "<Figure size 1600x1600 with 2 Axes>"
      ]
     },
     "metadata": {},
     "output_type": "display_data"
    }
   ],
   "source": [
    "numerical_cols = [\"Age\", \"SibSp\", \"Parch\", \"Fare\"]\n",
    "\n",
    "corr= train_data[numerical_cols].corr()\n",
    "plt.figure(figsize=(16, 16))\n",
    "sns.heatmap(corr, annot=True, cmap='coolwarm', vmin=-1, vmax=1)\n",
    "plt.show()"
   ]
  },
  {
   "attachments": {},
   "cell_type": "markdown",
   "metadata": {},
   "source": [
    "### Split data in train and validation"
   ]
  },
  {
   "cell_type": "code",
   "execution_count": 6,
   "metadata": {},
   "outputs": [],
   "source": [
    "features = [\"Pclass\", \"Sex\", \"Age\", \"SibSp\", \"Parch\", \"Fare\", \"Embarked\"]\n",
    "X = train_data[features]\n",
    "y = train_data.Survived\n",
    "\n",
    "X_train, X_valid, y_train, y_valid = train_test_split(X, y, train_size=0.8,\n",
    "                                                      test_size=0.2, random_state=0)\n",
    "X_test = test_data[features]"
   ]
  },
  {
   "attachments": {},
   "cell_type": "markdown",
   "metadata": {},
   "source": [
    "### Define scores for the encoders"
   ]
  },
  {
   "cell_type": "code",
   "execution_count": 7,
   "metadata": {},
   "outputs": [],
   "source": [
    "def score_dataset_random_forest(X_train, X_valid, y_train, y_valid):\n",
    "    model = RandomForestClassifier(n_estimators=100, max_depth=5, random_state=0)\n",
    "    model.fit(X_train, y_train)\n",
    "    preds = model.predict(X_valid)\n",
    "    return mean_absolute_error(y_valid, preds)\n",
    "\n",
    "def score_dataset_XGBoost(X_train, X_valid, y_train, y_valid):\n",
    "    model = XGBClassifier(n_estimators=500, learning_rate=0.05, n_jobs=4,\n",
    "                          early_stopping_rounds=5)\n",
    "    model.fit(X_train, y_train, eval_set=[(X_valid, y_valid)],\n",
    "              verbose=False)\n",
    "    preds = model.predict(X_valid)\n",
    "    return mean_absolute_error(y_valid, preds)"
   ]
  },
  {
   "cell_type": "code",
   "execution_count": 9,
   "metadata": {},
   "outputs": [],
   "source": [
    "X_train = pd.get_dummies(X_train)\n",
    "X_valid = pd.get_dummies(X_valid)\n",
    "X_train, X_valid = X_train.align(X_valid, join='left', axis=1)"
   ]
  },
  {
   "attachments": {},
   "cell_type": "markdown",
   "metadata": {},
   "source": [
    "### Evaluating better strategies to Imputation"
   ]
  },
  {
   "cell_type": "code",
   "execution_count": 10,
   "metadata": {},
   "outputs": [],
   "source": [
    "strategies = [\"mean\", \"median\", \"most_frequent\", \"constant\"]"
   ]
  },
  {
   "cell_type": "code",
   "execution_count": 19,
   "metadata": {},
   "outputs": [],
   "source": [
    "def score_imputer_strategy(strategy):\n",
    "      imputer = SimpleImputer(strategy=strategy)\n",
    "      imputed_X_train = pd.DataFrame(imputer.fit_transform(X_train))\n",
    "      imputed_X_valid = pd.DataFrame(imputer.transform(X_valid))\n",
    "      imputed_X_train.columns = X_train.columns\n",
    "      imputed_X_valid.columns = X_valid.columns\n",
    "\n",
    "      random_forest_score = score_dataset_random_forest(imputed_X_train, imputed_X_valid,\n",
    "                                                        y_train, y_valid)\n",
    "      xgboost_score = score_dataset_XGBoost(imputed_X_train, imputed_X_valid,\n",
    "                                            y_train, y_valid)\n",
    "\n",
    "      return random_forest_score, xgboost_score\n",
    "\n",
    "def score_imputer_plus_strategy(strategy):\n",
    "      X_train_plus = X_train.copy()\n",
    "      X_valid_plus = X_valid.copy()\n",
    "\n",
    "      cols_with_missing = [\"Age\"]\n",
    "\n",
    "      for col in cols_with_missing:\n",
    "            X_train_plus[col + '_was_missing'] = X_train_plus[col].isnull()\n",
    "            X_valid_plus[col + '_was_missing'] = X_valid_plus[col].isnull()\n",
    "\n",
    "      imputer = SimpleImputer(strategy=strategy)\n",
    "      imputed_X_train_plus = pd.DataFrame(imputer.fit_transform(X_train_plus))\n",
    "      imputed_X_valid_plus = pd.DataFrame(imputer.transform(X_valid_plus))\n",
    "\n",
    "      imputed_X_train_plus.columns = X_train_plus.columns\n",
    "      imputed_X_valid_plus.columns = X_valid_plus.columns\n",
    "\n",
    "      random_forest_score = score_dataset_random_forest(imputed_X_train_plus,\n",
    "                                                        imputed_X_valid_plus,\n",
    "                                                        y_train, y_valid)\n",
    "      xgboost_score = score_dataset_XGBoost(imputed_X_train_plus, imputed_X_valid_plus,\n",
    "                                            y_train, y_valid)\n",
    "\n",
    "      return random_forest_score, xgboost_score\n",
    "\n",
    "def score_without_imputer():\n",
    "      X_train_none = X_train.copy()\n",
    "      X_valid_none = X_valid.copy()\n",
    "\n",
    "      X_train_none.fillna(0, inplace=True)\n",
    "      X_valid_none.fillna(0, inplace=True)\n",
    "\n",
    "      random_forest_score = score_dataset_random_forest(X_train_none, X_valid_none, \n",
    "                                                        y_train, y_valid)\n",
    "      xgboost_score = score_dataset_XGBoost(X_train_none, X_valid_none, y_train,\n",
    "                                            y_valid)\n",
    "\n",
    "      return random_forest_score, xgboost_score\n",
    "\n",
    "# print(\"MAE from Approach Imputation:\")\n",
    "# print(\"MAE from Approach An Extension to Imputation:\")\n"
   ]
  },
  {
   "cell_type": "code",
   "execution_count": 21,
   "metadata": {},
   "outputs": [
    {
     "data": {
      "text/plain": [
       "<seaborn.axisgrid.FacetGrid at 0x7fbccc5a7070>"
      ]
     },
     "execution_count": 21,
     "metadata": {},
     "output_type": "execute_result"
    },
    {
     "data": {
      "image/png": "[encoded data removed]",
      "text/plain": [
       "<Figure size 656.25x500 with 1 Axes>"
      ]
     },
     "metadata": {},
     "output_type": "display_data"
    }
   ],
   "source": [
    "scores_to_imputation_random_forest = []\n",
    "scores_to_imputation_plus_random_forest = []\n",
    "scores_to_imputation_xgboost = []\n",
    "scores_to_imputation_plus_xgboost = []\n",
    "\n",
    "for strategy in strategies:\n",
    "    imputation_random_forest_score, imputation_xgboost_score = score_imputer_strategy(strategy)\n",
    "    imputation_plus_random_forest_score, imputation_plus_xgboost_score = score_imputer_plus_strategy(strategy)\n",
    "\n",
    "    scores_to_imputation_random_forest.append(imputation_random_forest_score)\n",
    "    scores_to_imputation_xgboost.append(imputation_xgboost_score)\n",
    "    scores_to_imputation_plus_random_forest.append(imputation_plus_random_forest_score)\n",
    "    scores_to_imputation_plus_xgboost.append(imputation_plus_xgboost_score)\n",
    "\n",
    "without_random_forest_score, without_xgboost_score = score_without_imputer()\n",
    "\n",
    "types_name = [\"Imputation RF\"] * 4 + [\"Imputation X\"] * 4 + [\"ImputationP RF\"] * 4 + [\"ImputationP X\"] * 4 + [\"Without RF\"] + [\"Without X\"]\n",
    "strategies_names = [] \n",
    "for _ in range(len(strategies)):\n",
    "    strategies_names += strategies\n",
    "strategies_names += [\"zero\"] * 2\n",
    "\n",
    "scores = scores_to_imputation_random_forest + scores_to_imputation_xgboost + scores_to_imputation_plus_random_forest + scores_to_imputation_plus_xgboost + [without_random_forest_score, without_xgboost_score]\n",
    "\n",
    "scores_dataset = pd.DataFrame({\"Strategy\": strategies_names, \"Score\": scores, \"Type\": types_name})\n",
    "\n",
    "sns.catplot(x=\"Strategy\", y=\"Score\", hue=\"Type\", data=scores_dataset)"
   ]
  },
  {
   "cell_type": "code",
   "execution_count": 31,
   "metadata": {},
   "outputs": [
    {
     "data": {
      "text/html": [
       "<div>\n",
       "<style scoped>\n",
       "    .dataframe tbody tr th:only-of-type {\n",
       "        vertical-align: middle;\n",
       "    }\n",
       "\n",
       "    .dataframe tbody tr th {\n",
       "        vertical-align: top;\n",
       "    }\n",
       "\n",
       "    .dataframe thead th {\n",
       "        text-align: right;\n",
       "    }\n",
       "</style>\n",
       "<table border=\"1\" class=\"dataframe\">\n",
       "  <thead>\n",
       "    <tr style=\"text-align: right;\">\n",
       "      <th></th>\n",
       "      <th>Strategy</th>\n",
       "      <th>Score</th>\n",
       "      <th>Type</th>\n",
       "    </tr>\n",
       "    <tr>\n",
       "      <th>Type</th>\n",
       "      <th></th>\n",
       "      <th></th>\n",
       "      <th></th>\n",
       "    </tr>\n",
       "  </thead>\n",
       "  <tbody>\n",
       "    <tr>\n",
       "      <th>Imputation RF</th>\n",
       "      <td>constant</td>\n",
       "      <td>0.178771</td>\n",
       "      <td>Imputation RF</td>\n",
       "    </tr>\n",
       "    <tr>\n",
       "      <th>Imputation X</th>\n",
       "      <td>mean</td>\n",
       "      <td>0.145251</td>\n",
       "      <td>Imputation X</td>\n",
       "    </tr>\n",
       "    <tr>\n",
       "      <th>ImputationP RF</th>\n",
       "      <td>median</td>\n",
       "      <td>0.178771</td>\n",
       "      <td>ImputationP RF</td>\n",
       "    </tr>\n",
       "    <tr>\n",
       "      <th>ImputationP X</th>\n",
       "      <td>mean</td>\n",
       "      <td>0.145251</td>\n",
       "      <td>ImputationP X</td>\n",
       "    </tr>\n",
       "    <tr>\n",
       "      <th>Without RF</th>\n",
       "      <td>zero</td>\n",
       "      <td>0.178771</td>\n",
       "      <td>Without RF</td>\n",
       "    </tr>\n",
       "    <tr>\n",
       "      <th>Without X</th>\n",
       "      <td>zero</td>\n",
       "      <td>0.145251</td>\n",
       "      <td>Without X</td>\n",
       "    </tr>\n",
       "  </tbody>\n",
       "</table>\n",
       "</div>"
      ],
      "text/plain": [
       "                Strategy     Score            Type\n",
       "Type                                              \n",
       "Imputation RF   constant  0.178771   Imputation RF\n",
       "Imputation X        mean  0.145251    Imputation X\n",
       "ImputationP RF    median  0.178771  ImputationP RF\n",
       "ImputationP X       mean  0.145251   ImputationP X\n",
       "Without RF          zero  0.178771      Without RF\n",
       "Without X           zero  0.145251       Without X"
      ]
     },
     "execution_count": 31,
     "metadata": {},
     "output_type": "execute_result"
    }
   ],
   "source": [
    "scores_dataset.groupby(\"Type\").apply(lambda df: df.loc[df.Score.idxmin()])"
   ]
  },
  {
   "attachments": {},
   "cell_type": "markdown",
   "metadata": {},
   "source": [
    "- To XGBoost has a better performance independent to the strategy\n",
    "- RandomForest performed better in median for Imputation Plus and constant for both imputation\n",
    "- To simply, we'll choose to Simple Imputer"
   ]
  },
  {
   "attachments": {},
   "cell_type": "markdown",
   "metadata": {},
   "source": [
    "### Tuning Models"
   ]
  },
  {
   "cell_type": "code",
   "execution_count": null,
   "metadata": {},
   "outputs": [],
   "source": [
    "imputer = SimpleImputer(strategy=\"constant\")\n",
    "imputed_X_train = pd.DataFrame(imputer.fit_transform(X_train))\n",
    "imputed_X_valid = pd.DataFrame(imputer.transform(X_valid))\n",
    "imputed_X_train.columns = X_train.columns\n",
    "imputed_X_valid.columns = X_valid.columns\n",
    "\n",
    "cv_strat = StratifiedKFold(n_splits=5, shuffle=True, random_state=0)"
   ]
  },
  {
   "attachments": {},
   "cell_type": "markdown",
   "metadata": {},
   "source": [
    "#### RandomForest"
   ]
  },
  {
   "cell_type": "code",
   "execution_count": 45,
   "metadata": {},
   "outputs": [
    {
     "name": "stdout",
     "output_type": "stream",
     "text": [
      "Fitting 5 folds for each of 525 candidates, totalling 2625 fits\n",
      "{'criterion': 'log_loss', 'max_depth': 10, 'max_leaf_nodes': 50, 'n_estimators': 100}\n"
     ]
    }
   ],
   "source": [
    "# params_grid_rf = {\n",
    "#     'max_depth': [1, 3, 5, 7, 10],\n",
    "#     'n_estimators': [100, 150, 200, 250, 300, 350, 400],\n",
    "#     'max_leaf_nodes': [10, 25, 50, 75, 100],\n",
    "#     'criterion': [\"gini\", \"entropy\", \"log_loss\"],\n",
    "# }\n",
    "# rf_model = RandomForestClassifier()\n",
    "\n",
    "# grid_search_rf = GridSearchCV(estimator=rf_model, param_grid=params_grid_rf, cv=cv_strat,\n",
    "#                            n_jobs=-1, verbose=1)\n",
    "# grid_search_rf.fit(imputed_X_train, y_train)\n",
    "\n",
    "# print(grid_search_rf.best_params_)"
   ]
  },
  {
   "attachments": {},
   "cell_type": "markdown",
   "metadata": {},
   "source": [
    "#### XGBoost"
   ]
  },
  {
   "cell_type": "code",
   "execution_count": 41,
   "metadata": {},
   "outputs": [
    {
     "name": "stdout",
     "output_type": "stream",
     "text": [
      "Fitting 5 folds for each of 336 candidates, totalling 1680 fits\n",
      "{'early_stopping_rounds': 10, 'learning_rate': 0.1, 'max_depth': 7, 'n_estimators': 100}\n"
     ]
    }
   ],
   "source": [
    "# params_grid_xgb = {\n",
    "#     'learning_rate': [0.01, 0.02, 0.05, 0.10],\n",
    "#     'max_depth': [1, 3, 5, 7],\n",
    "#     'n_estimators': [100, 150, 200, 250, 300, 350, 400],\n",
    "#     'early_stopping_rounds': [10, 15, 20]\n",
    "# }\n",
    "# xgb_model = XGBClassifier()\n",
    "\n",
    "# grid_search_xgb = GridSearchCV(estimator=xgb_model, param_grid=params_grid_xgb,\n",
    "#                                cv=cv_strat, n_jobs=-1, verbose=1)\n",
    "# grid_search_xgb.fit(imputed_X_train, y_train, eval_set=[(imputed_X_valid, y_valid)],\n",
    "#                 verbose=False)\n",
    "\n",
    "# print(grid_search_xgb.best_params_)"
   ]
  },
  {
   "attachments": {},
   "cell_type": "markdown",
   "metadata": {},
   "source": [
    "Creating pipelines"
   ]
  },
  {
   "cell_type": "code",
   "execution_count": 110,
   "metadata": {},
   "outputs": [],
   "source": [
    "numerical_cols = [\"Age\", \"SibSp\", \"Parch\", \"Fare\"]\n",
    "\n",
    "final_model_random_forest = RandomForestClassifier(n_estimators=100, criterion=\"log_loss\",\n",
    "                                                   max_leaf_nodes=50,  max_depth=10,\n",
    "                                                   random_state=0)\n",
    "final_model_XGBoost = XGBClassifier(n_estimators=100, learning_rate=0.1, n_jobs=4,\n",
    "                                   early_stopping_rounds=10, colsample_bytree=0.6,\n",
    "                                   max_depth=7, min_child_weight=7, reg_alpha=0,\n",
    "                                   random_state=0)\n",
    "\n",
    "X = train_data[features]\n",
    "y = train_data.Survived\n",
    "X_train, X_valid, y_train, y_valid = train_test_split(X, y, train_size=0.8,\n",
    "                                                      test_size=0.2, random_state=0)\n",
    "X_test = test_data[features]\n",
    "\n",
    "X_columns = X.columns\n",
    "X_train_columns = X_train.columns\n",
    "X_valid_columns = X_valid.columns\n",
    "X_test_columns = X_test.columns\n",
    "\n",
    "imputer = SimpleImputer(strategy=\"most_frequent\")\n",
    "X = pd.DataFrame(imputer.fit_transform(X))\n",
    "X_train = pd.DataFrame(imputer.fit_transform(X_train))\n",
    "X_valid = pd.DataFrame(imputer.transform(X_valid))\n",
    "X_test = pd.DataFrame(imputer.transform(X_test))\n",
    "X.columns = X_columns\n",
    "X_train.columns = X_train_columns\n",
    "X_valid.columns = X_valid_columns\n",
    "X_test.columns = X_test_columns\n",
    "X[numerical_cols] = X[numerical_cols].apply(pd.to_numeric)\n",
    "X_train[numerical_cols] = X_train[numerical_cols].apply(pd.to_numeric)\n",
    "X_valid[numerical_cols] = X_valid[numerical_cols].apply(pd.to_numeric)\n",
    "X_test[numerical_cols] = X_test[numerical_cols].apply(pd.to_numeric)\n",
    "\n",
    "\n",
    "X = pd.get_dummies(X)\n",
    "X_train = pd.get_dummies(X_train)\n",
    "X_valid = pd.get_dummies(X_valid)\n",
    "X_test = pd.get_dummies(X_test)\n",
    "X_train, X_valid = X_train.align(X_valid, join='left', axis=1)\n",
    "\n",
    "final_model_random_forest.fit(X, y)\n",
    "final_model_XGBoost.fit(X_train, y_train, eval_set=[(X_valid, y_valid)], verbose=False)\n",
    "\n",
    "predictions_random_forest = final_model_random_forest.predict(X_test)\n",
    "predictions_xgboost = final_model_XGBoost.predict(X_test)\n"
   ]
  },
  {
   "cell_type": "code",
   "execution_count": 120,
   "metadata": {},
   "outputs": [
    {
     "name": "stdout",
     "output_type": "stream",
     "text": [
      "Your submissions were successfully saved!\n"
     ]
    }
   ],
   "source": [
    "output_random_forest = pd.DataFrame({'PassengerId': test_data.index,\n",
    "                                     'Survived': predictions_random_forest})\n",
    "output_random_forest.to_csv('results/submission_random_forest.csv', index=False)\n",
    "\n",
    "output_xgboost = pd.DataFrame({'PassengerId': test_data.index,\n",
    "                               'Survived': predictions_xgboost})\n",
    "output_xgboost.to_csv('results/submission_xgboost.csv', index=False)\n",
    "print(\"Your submissions were successfully saved!\")"
   ]
  }
 ],
 "metadata": {
  "kernelspec": {
   "display_name": ".venv",
   "language": "python",
   "name": "python3"
  },
  "language_info": {
   "codemirror_mode": {
    "name": "ipython",
    "version": 3
   },
   "file_extension": ".py",
   "mimetype": "text/x-python",
   "name": "python",
   "nbconvert_exporter": "python",
   "pygments_lexer": "ipython3",
   "version": "3.10.6"
  },
  "orig_nbformat": 4
 },
 "nbformat": 4,
 "nbformat_minor": 2
}
